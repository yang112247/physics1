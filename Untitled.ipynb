{
  "nbformat": 4,
  "nbformat_minor": 0,
  "metadata": {
    "colab": {
      "provenance": [],
      "toc_visible": true,
      "authorship_tag": "ABX9TyNNSSpC6lnK/q2NNZGH6+yz",
      "include_colab_link": true
    },
    "kernelspec": {
      "name": "python3",
      "display_name": "Python 3"
    },
    "language_info": {
      "name": "python"
    }
  },
  "cells": [
    {
      "cell_type": "markdown",
      "metadata": {
        "id": "view-in-github",
        "colab_type": "text"
      },
      "source": [
        "<a href=\"https://colab.research.google.com/github/yang112247/physics1/blob/20250312/Untitled.ipynb\" target=\"_parent\"><img src=\"https://colab.research.google.com/assets/colab-badge.svg\" alt=\"Open In Colab\"/></a>"
      ]
    },
    {
      "cell_type": "code",
      "source": [
        "import math #수학 함수를 사용하기 위해서 라이브러리 추가"
      ],
      "metadata": {
        "id": "WPUzGLHFsn98"
      },
      "execution_count": 1,
      "outputs": []
    },
    {
      "cell_type": "markdown",
      "source": [],
      "metadata": {
        "id": "mxBlSTlzuweB"
      }
    },
    {
      "cell_type": "code",
      "source": [
        "호도법"
      ],
      "metadata": {
        "id": "sgX68FNiypYG"
      },
      "execution_count": null,
      "outputs": []
    },
    {
      "cell_type": "code",
      "source": [
        "angle_degree = 60\n",
        "\n",
        "angle_radian = angle_degree * math.pi / 180\n",
        "\n",
        "print(\"angle_degree: \", angle_radian)\n",
        ""
      ],
      "metadata": {
        "colab": {
          "base_uri": "https://localhost:8080/"
        },
        "id": "1jYqpQMhuvP8",
        "outputId": "4763e54d-c746-44fa-b873-df7fe96b2600"
      },
      "execution_count": 17,
      "outputs": [
        {
          "output_type": "stream",
          "name": "stdout",
          "text": [
            "angle_degree:  1.0471975511965976\n"
          ]
        }
      ]
    },
    {
      "cell_type": "markdown",
      "source": [],
      "metadata": {
        "id": "LB-FOtnGuw5r"
      }
    },
    {
      "cell_type": "code",
      "source": [
        "\n",
        "math.cos(angle_radian)"
      ],
      "metadata": {
        "colab": {
          "base_uri": "https://localhost:8080/"
        },
        "id": "NBHLbYXGuvsZ",
        "outputId": "c7529b73-ac13-43a2-87ea-ddbf5cc54195"
      },
      "execution_count": 3,
      "outputs": [
        {
          "output_type": "execute_result",
          "data": {
            "text/plain": [
              "0.8660254037844387"
            ]
          },
          "metadata": {},
          "execution_count": 3
        }
      ]
    },
    {
      "cell_type": "markdown",
      "source": [],
      "metadata": {
        "id": "hDtHh34ouxUn"
      }
    },
    {
      "cell_type": "code",
      "source": [
        "math.sin(angle_radian)"
      ],
      "metadata": {
        "colab": {
          "base_uri": "https://localhost:8080/"
        },
        "id": "V3KgGC-quvvR",
        "outputId": "157ecdce-bca1-4e22-f2a2-6c69fdc3e96c"
      },
      "execution_count": 4,
      "outputs": [
        {
          "output_type": "execute_result",
          "data": {
            "text/plain": [
              "0.49999999999999994"
            ]
          },
          "metadata": {},
          "execution_count": 4
        }
      ]
    },
    {
      "cell_type": "code",
      "source": [
        "math.tan(angle_radian)"
      ],
      "metadata": {
        "colab": {
          "base_uri": "https://localhost:8080/"
        },
        "id": "Co5bMThLvPWo",
        "outputId": "9f00fb5a-1fb5-4346-f4ae-77c51a1a640c"
      },
      "execution_count": 5,
      "outputs": [
        {
          "output_type": "execute_result",
          "data": {
            "text/plain": [
              "0.5773502691896257"
            ]
          },
          "metadata": {},
          "execution_count": 5
        }
      ]
    },
    {
      "cell_type": "markdown",
      "source": [
        "***직교 좌표를 극좌표로 변환***\n",
        "# **굵은 텍스트**"
      ],
      "metadata": {
        "id": "8_GiWwSVyceJ"
      }
    },
    {
      "cell_type": "code",
      "source": [
        "x, y = 1.0, 2.0"
      ],
      "metadata": {
        "id": "nCLmcg1jvUvD"
      },
      "execution_count": 12,
      "outputs": []
    },
    {
      "cell_type": "code",
      "source": [
        "r = math.sqrt(x**2 + y**2)\n",
        "theta_raidan = math.atan2(y, x)\n",
        "\n",
        "print(r, theta_raidan)"
      ],
      "metadata": {
        "colab": {
          "base_uri": "https://localhost:8080/"
        },
        "id": "cS_Uv88tvWD1",
        "outputId": "49787dc6-5c02-48b5-b048-f3b6e5574912"
      },
      "execution_count": 7,
      "outputs": [
        {
          "output_type": "stream",
          "name": "stdout",
          "text": [
            "2.23606797749979 1.1071487177940904\n"
          ]
        }
      ]
    },
    {
      "cell_type": "markdown",
      "source": [
        "\n",
        "극좌표를 직교 좌표로 **변환** **굵은 텍스트**"
      ],
      "metadata": {
        "id": "_O0BmOMoyjfX"
      }
    },
    {
      "cell_type": "code",
      "source": [
        "r= 1\n",
        "angle_degree= 30"
      ],
      "metadata": {
        "id": "JJYxmo1tvaoi"
      },
      "execution_count": 15,
      "outputs": []
    },
    {
      "cell_type": "code",
      "source": [
        "x = r * math.cos(angle_radian)\n",
        "y = r * math.sin(angle_radian)\n",
        "\n",
        "print(x ,y)"
      ],
      "metadata": {
        "colab": {
          "base_uri": "https://localhost:8080/"
        },
        "id": "P4Z9I4lOvc0d",
        "outputId": "b31e8aaf-2988-484d-8444-e07d48c0fdeb"
      },
      "execution_count": 16,
      "outputs": [
        {
          "output_type": "stream",
          "name": "stdout",
          "text": [
            "0.5000000000000001 0.8660254037844386\n"
          ]
        }
      ]
    }
  ]
}